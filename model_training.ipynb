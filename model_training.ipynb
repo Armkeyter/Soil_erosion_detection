{
 "cells": [
  {
   "cell_type": "code",
   "execution_count": 1,
   "id": "baa16b96-c641-4cf3-9ab7-c234b1d8ff5f",
   "metadata": {},
   "outputs": [],
   "source": [
    "import os\n",
    "from tensorflow import keras\n",
    "import numpy as np\n",
    "from skimage.io import imread, imshow\n",
    "from skimage.transform import resize\n",
    "from tqdm import tqdm\n",
    "import random\n",
    "import shutil\n",
    "import matplotlib.pyplot as plt\n",
    "import cv2"
   ]
  },
  {
   "cell_type": "code",
   "execution_count": 2,
   "id": "12b76ec2-2af4-432f-94a2-270735171ff4",
   "metadata": {},
   "outputs": [
    {
     "name": "stdout",
     "output_type": "stream",
     "text": [
      "D:/Quantum internship/train/input\\0_0.png\n",
      "D:/Quantum internship/train/input\\0_1024.png\n",
      "D:/Quantum internship/train/input\\0_10240.png\n",
      "D:/Quantum internship/train/input\\0_10752.png\n",
      "D:/Quantum internship/train/input\\0_1536.png\n",
      "D:/Quantum internship/train/input\\0_2048.png\n",
      "D:/Quantum internship/train/input\\0_2560.png\n",
      "D:/Quantum internship/train/input\\0_3072.png\n",
      "D:/Quantum internship/train/input\\0_3584.png\n",
      "D:/Quantum internship/train/input\\0_4096.png\n",
      "D:/Quantum internship/train/output\\0_0.png\n",
      "D:/Quantum internship/train/output\\0_1024.png\n",
      "D:/Quantum internship/train/output\\0_10240.png\n",
      "D:/Quantum internship/train/output\\0_10752.png\n",
      "D:/Quantum internship/train/output\\0_1536.png\n",
      "D:/Quantum internship/train/output\\0_2048.png\n",
      "D:/Quantum internship/train/output\\0_2560.png\n",
      "D:/Quantum internship/train/output\\0_3072.png\n",
      "D:/Quantum internship/train/output\\0_3584.png\n",
      "D:/Quantum internship/train/output\\0_4096.png\n",
      "D:/Quantum internship/test/output\\0_4608.png\n",
      "D:/Quantum internship/test/output\\0_6144.png\n",
      "D:/Quantum internship/test/output\\0_7680.png\n",
      "D:/Quantum internship/test/output\\0_9728.png\n",
      "D:/Quantum internship/test/output\\10240_9728.png\n",
      "D:/Quantum internship/test/output\\10752_1024.png\n",
      "D:/Quantum internship/test/output\\10752_7680.png\n",
      "D:/Quantum internship/test/output\\2048_2048.png\n",
      "D:/Quantum internship/test/output\\2048_2560.png\n",
      "D:/Quantum internship/test/output\\2048_3072.png\n"
     ]
    }
   ],
   "source": [
    "input_train = \"D:/Quantum internship/train/input\"\n",
    "output_train = \"D:/Quantum internship/train/output\"\n",
    "input_test = \"D:/Quantum internship/test/output\"\n",
    "\n",
    "TRAIN_FOLDER_INPUT = \"D:/Quantum internship/train/input\"\n",
    "TRAIN_FOLDER_OUTPUT = \"D:/Quantum internship/train/output\"\n",
    "TEST_FOLDER_OUTPUT = \"D:/Quantum internship/test/input\"\n",
    "seed=random.seed(47)\n",
    "\n",
    "X_train_path = sorted(\n",
    "    [\n",
    "        os.path.join(input_train, fname)\n",
    "        for fname in os.listdir(TRAIN_FOLDER_INPUT)\n",
    "        if fname.endswith(\".png\")\n",
    "    ]\n",
    ")\n",
    "for c in X_train_path[:10]:\n",
    "    print(c)\n",
    "Y_train_path = sorted(\n",
    "    [\n",
    "        os.path.join(output_train, fname)\n",
    "        for fname in os.listdir(TRAIN_FOLDER_OUTPUT)\n",
    "        if fname.endswith(\".png\") and not fname.startswith(\".\")\n",
    "    ]\n",
    ")\n",
    "for c in Y_train_path[:10]:\n",
    "    print(c)\n",
    "X_test_path = sorted(\n",
    "    [\n",
    "        os.path.join(input_test, fname)\n",
    "        for fname in os.listdir(TEST_FOLDER_OUTPUT)\n",
    "        if fname.endswith(\".png\")\n",
    "    ]\n",
    ")\n",
    "for c in X_test_path[:10]:\n",
    "    print(c)"
   ]
  },
  {
   "cell_type": "code",
   "execution_count": 6,
   "id": "1cf532e2-7702-4952-a8b4-34e8d3c27679",
   "metadata": {},
   "outputs": [
    {
     "name": "stderr",
     "output_type": "stream",
     "text": [
      "  0%|                                                                                          | 0/439 [00:00<?, ?it/s]"
     ]
    },
    {
     "name": "stdout",
     "output_type": "stream",
     "text": [
      "ERROR! Session/line number was not unique in database. History logging moved to new session 39\n"
     ]
    },
    {
     "name": "stderr",
     "output_type": "stream",
     "text": [
      "100%|████████████████████████████████████████████████████████████████████████████████| 439/439 [01:09<00:00,  6.33it/s]\n",
      "100%|████████████████████████████████████████████████████████████████████████████████| 439/439 [00:59<00:00,  7.42it/s]\n",
      "100%|██████████████████████████████████████████████████████████████████████████████████| 45/45 [00:06<00:00,  7.22it/s]\n"
     ]
    }
   ],
   "source": [
    "IMG_HEIGHT=512\n",
    "IMG_WIDTH=512\n",
    "IMG_CHANNELS=3\n",
    "X_train = np.zeros((len(X_train_path), IMG_HEIGHT, IMG_WIDTH, IMG_CHANNELS), dtype=np.uint8)\n",
    "Y_train = np.zeros((len(X_train_path), IMG_HEIGHT, IMG_WIDTH, 1), dtype=np.bool)\n",
    "X_test = np.zeros((len(X_test_path), IMG_HEIGHT, IMG_WIDTH, IMG_CHANNELS), dtype=np.uint8)\n",
    "\n",
    "for n, image in tqdm(enumerate(X_train_path), total=len(X_train_path)):\n",
    "    img = imread(image)[:, :, :IMG_CHANNELS]\n",
    "    img = resize(img, (IMG_HEIGHT, IMG_WIDTH), mode='constant', preserve_range=True)\n",
    "    X_train[n] = img\n",
    "\n",
    "for n, image in tqdm(enumerate(Y_train_path), total=len(Y_train_path)):\n",
    "    img = imread(image)   \n",
    "    img = resize(img, (IMG_HEIGHT, IMG_WIDTH,1), mode='constant', preserve_range=True)\n",
    "#     img = np.expand_dims(resize(img, (IMG_HEIGHT, IMG_WIDTH,1), mode='constant', preserve_range=True), axis=-1)\n",
    "    Y_train[n] = img\n",
    "\n",
    "\n",
    "for n, image in tqdm(enumerate(X_test_path), total=len(X_test_path)):\n",
    "    img = imread(image)[:, :, :IMG_CHANNELS]\n",
    "    img = resize(img, (IMG_HEIGHT, IMG_WIDTH), mode='constant', preserve_range=True)\n",
    "    X_test[n] = img\n"
   ]
  },
  {
   "cell_type": "code",
   "execution_count": 21,
   "id": "bf6d6363-c51d-4967-b093-8353840d3948",
   "metadata": {},
   "outputs": [
    {
     "data": {
      "text/plain": [
       "<matplotlib.image.AxesImage at 0x21297f75490>"
      ]
     },
     "execution_count": 21,
     "metadata": {},
     "output_type": "execute_result"
    },
    {
     "data": {
      "image/png": "[encoded data removed]",
      "text/plain": [
       "<Figure size 432x288 with 1 Axes>"
      ]
     },
     "metadata": {
      "needs_background": "light"
     },
     "output_type": "display_data"
    }
   ],
   "source": [
    "plt.imshow(Y_train[0])"
   ]
  },
  {
   "cell_type": "code",
   "execution_count": 8,
   "id": "33e43fcf-9cee-4a06-9d73-d3e06d7cd5ad",
   "metadata": {},
   "outputs": [
    {
     "name": "stdout",
     "output_type": "stream",
     "text": [
      "Model: \"model_1\"\n",
      "__________________________________________________________________________________________________\n",
      "Layer (type)                    Output Shape         Param #     Connected to                     \n",
      "==================================================================================================\n",
      "input_2 (InputLayer)            [(None, 512, 512, 3) 0                                            \n",
      "__________________________________________________________________________________________________\n",
      "lambda_1 (Lambda)               (None, 512, 512, 3)  0           input_2[0][0]                    \n",
      "__________________________________________________________________________________________________\n",
      "conv2d_19 (Conv2D)              (None, 512, 512, 16) 448         lambda_1[0][0]                   \n",
      "__________________________________________________________________________________________________\n",
      "dropout_9 (Dropout)             (None, 512, 512, 16) 0           conv2d_19[0][0]                  \n",
      "__________________________________________________________________________________________________\n",
      "conv2d_20 (Conv2D)              (None, 512, 512, 16) 2320        dropout_9[0][0]                  \n",
      "__________________________________________________________________________________________________\n",
      "max_pooling2d_4 (MaxPooling2D)  (None, 256, 256, 16) 0           conv2d_20[0][0]                  \n",
      "__________________________________________________________________________________________________\n",
      "conv2d_21 (Conv2D)              (None, 256, 256, 32) 4640        max_pooling2d_4[0][0]            \n",
      "__________________________________________________________________________________________________\n",
      "dropout_10 (Dropout)            (None, 256, 256, 32) 0           conv2d_21[0][0]                  \n",
      "__________________________________________________________________________________________________\n",
      "conv2d_22 (Conv2D)              (None, 256, 256, 32) 9248        dropout_10[0][0]                 \n",
      "__________________________________________________________________________________________________\n",
      "max_pooling2d_5 (MaxPooling2D)  (None, 128, 128, 32) 0           conv2d_22[0][0]                  \n",
      "__________________________________________________________________________________________________\n",
      "conv2d_23 (Conv2D)              (None, 128, 128, 64) 18496       max_pooling2d_5[0][0]            \n",
      "__________________________________________________________________________________________________\n",
      "dropout_11 (Dropout)            (None, 128, 128, 64) 0           conv2d_23[0][0]                  \n",
      "__________________________________________________________________________________________________\n",
      "conv2d_24 (Conv2D)              (None, 128, 128, 64) 36928       dropout_11[0][0]                 \n",
      "__________________________________________________________________________________________________\n",
      "max_pooling2d_6 (MaxPooling2D)  (None, 64, 64, 64)   0           conv2d_24[0][0]                  \n",
      "__________________________________________________________________________________________________\n",
      "conv2d_25 (Conv2D)              (None, 64, 64, 128)  73856       max_pooling2d_6[0][0]            \n",
      "__________________________________________________________________________________________________\n",
      "dropout_12 (Dropout)            (None, 64, 64, 128)  0           conv2d_25[0][0]                  \n",
      "__________________________________________________________________________________________________\n",
      "conv2d_26 (Conv2D)              (None, 64, 64, 128)  147584      dropout_12[0][0]                 \n",
      "__________________________________________________________________________________________________\n",
      "max_pooling2d_7 (MaxPooling2D)  (None, 32, 32, 128)  0           conv2d_26[0][0]                  \n",
      "__________________________________________________________________________________________________\n",
      "conv2d_27 (Conv2D)              (None, 32, 32, 256)  295168      max_pooling2d_7[0][0]            \n",
      "__________________________________________________________________________________________________\n",
      "dropout_13 (Dropout)            (None, 32, 32, 256)  0           conv2d_27[0][0]                  \n",
      "__________________________________________________________________________________________________\n",
      "conv2d_28 (Conv2D)              (None, 32, 32, 256)  590080      dropout_13[0][0]                 \n",
      "__________________________________________________________________________________________________\n",
      "conv2d_transpose_4 (Conv2DTrans (None, 64, 64, 128)  131200      conv2d_28[0][0]                  \n",
      "__________________________________________________________________________________________________\n",
      "concatenate_4 (Concatenate)     (None, 64, 64, 256)  0           conv2d_transpose_4[0][0]         \n",
      "                                                                 conv2d_26[0][0]                  \n",
      "__________________________________________________________________________________________________\n",
      "conv2d_29 (Conv2D)              (None, 64, 64, 128)  295040      concatenate_4[0][0]              \n",
      "__________________________________________________________________________________________________\n",
      "dropout_14 (Dropout)            (None, 64, 64, 128)  0           conv2d_29[0][0]                  \n",
      "__________________________________________________________________________________________________\n",
      "conv2d_30 (Conv2D)              (None, 64, 64, 128)  147584      dropout_14[0][0]                 \n",
      "__________________________________________________________________________________________________\n",
      "conv2d_transpose_5 (Conv2DTrans (None, 128, 128, 64) 32832       conv2d_30[0][0]                  \n",
      "__________________________________________________________________________________________________\n",
      "concatenate_5 (Concatenate)     (None, 128, 128, 128 0           conv2d_transpose_5[0][0]         \n",
      "                                                                 conv2d_24[0][0]                  \n",
      "__________________________________________________________________________________________________\n",
      "conv2d_31 (Conv2D)              (None, 128, 128, 64) 73792       concatenate_5[0][0]              \n",
      "__________________________________________________________________________________________________\n",
      "dropout_15 (Dropout)            (None, 128, 128, 64) 0           conv2d_31[0][0]                  \n",
      "__________________________________________________________________________________________________\n",
      "conv2d_32 (Conv2D)              (None, 128, 128, 64) 36928       dropout_15[0][0]                 \n",
      "__________________________________________________________________________________________________\n",
      "conv2d_transpose_6 (Conv2DTrans (None, 256, 256, 32) 8224        conv2d_32[0][0]                  \n",
      "__________________________________________________________________________________________________\n",
      "concatenate_6 (Concatenate)     (None, 256, 256, 64) 0           conv2d_transpose_6[0][0]         \n",
      "                                                                 conv2d_22[0][0]                  \n",
      "__________________________________________________________________________________________________\n",
      "conv2d_33 (Conv2D)              (None, 256, 256, 32) 18464       concatenate_6[0][0]              \n",
      "__________________________________________________________________________________________________\n",
      "dropout_16 (Dropout)            (None, 256, 256, 32) 0           conv2d_33[0][0]                  \n",
      "__________________________________________________________________________________________________\n",
      "conv2d_34 (Conv2D)              (None, 256, 256, 32) 9248        dropout_16[0][0]                 \n",
      "__________________________________________________________________________________________________\n",
      "conv2d_transpose_7 (Conv2DTrans (None, 512, 512, 16) 2064        conv2d_34[0][0]                  \n",
      "__________________________________________________________________________________________________\n",
      "concatenate_7 (Concatenate)     (None, 512, 512, 32) 0           conv2d_transpose_7[0][0]         \n",
      "                                                                 conv2d_20[0][0]                  \n",
      "__________________________________________________________________________________________________\n",
      "conv2d_35 (Conv2D)              (None, 512, 512, 16) 4624        concatenate_7[0][0]              \n",
      "__________________________________________________________________________________________________\n",
      "dropout_17 (Dropout)            (None, 512, 512, 16) 0           conv2d_35[0][0]                  \n",
      "__________________________________________________________________________________________________\n",
      "conv2d_36 (Conv2D)              (None, 512, 512, 16) 2320        dropout_17[0][0]                 \n",
      "__________________________________________________________________________________________________\n",
      "conv2d_37 (Conv2D)              (None, 512, 512, 1)  17          conv2d_36[0][0]                  \n",
      "==================================================================================================\n",
      "Total params: 1,941,105\n",
      "Trainable params: 1,941,105\n",
      "Non-trainable params: 0\n",
      "__________________________________________________________________________________________________\n"
     ]
    }
   ],
   "source": [
    "\n",
    "inputs = keras.layers.Input((IMG_HEIGHT, IMG_WIDTH, IMG_CHANNELS))\n",
    "s = keras.layers.Lambda(lambda x: x / 255)(inputs)\n",
    "c1 = keras.layers.Conv2D(16, (3, 3), activation='relu', kernel_initializer='he_normal', padding='same')(s)\n",
    "c1 = keras.layers.Dropout(0.1)(c1)\n",
    "c1 = keras.layers.Conv2D(16, (3, 3), activation='relu', kernel_initializer='he_normal', padding='same')(c1)\n",
    "p1 = keras.layers.MaxPooling2D((2, 2))(c1)\n",
    "\n",
    "c2 = keras.layers.Conv2D(32, (3, 3), activation='relu', kernel_initializer='he_normal', padding='same')(p1)\n",
    "c2 = keras.layers.Dropout(0.1)(c2)\n",
    "c2 = keras.layers.Conv2D(32, (3, 3), activation='relu', kernel_initializer='he_normal', padding='same')(c2)\n",
    "p2 = keras.layers.MaxPooling2D((2, 2))(c2)\n",
    "\n",
    "c3 = keras.layers.Conv2D(64, (3, 3), activation='relu', kernel_initializer='he_normal', padding='same')(p2)\n",
    "c3 = keras.layers.Dropout(0.1)(c3)\n",
    "c3 = keras.layers.Conv2D(64, (3, 3), activation='relu', kernel_initializer='he_normal', padding='same')(c3)\n",
    "p3 = keras.layers.MaxPooling2D((2, 2))(c3)\n",
    "\n",
    "c4 = keras.layers.Conv2D(128, (3, 3), activation='relu', kernel_initializer='he_normal', padding='same')(p3)\n",
    "c4 = keras.layers.Dropout(0.1)(c4)\n",
    "c4 = keras.layers.Conv2D(128, (3, 3), activation='relu', kernel_initializer='he_normal', padding='same')(c4)\n",
    "p4 = keras.layers.MaxPooling2D((2, 2))(c4)\n",
    "\n",
    "c5 = keras.layers.Conv2D(256, (3, 3), activation='relu', kernel_initializer='he_normal', padding='same')(p4)\n",
    "c5 = keras.layers.Dropout(0.1)(c5)\n",
    "c5 = keras.layers.Conv2D(256, (3, 3), activation='relu', kernel_initializer='he_normal', padding='same')(c5)\n",
    "# Expansive path\n",
    "u6 = keras.layers.Conv2DTranspose(128, (2, 2), strides=(2, 2), padding='same')(c5)\n",
    "u6 = keras.layers.concatenate([u6, c4])\n",
    "c6 = keras.layers.Conv2D(128, (3, 3), activation='relu', kernel_initializer='he_normal', padding='same')(u6)\n",
    "c6 = keras.layers.Dropout(0.2)(c6)\n",
    "c6 = keras.layers.Conv2D(128, (3, 3), activation='relu', kernel_initializer='he_normal', padding='same')(c6)\n",
    "\n",
    "u7 = keras.layers.Conv2DTranspose(64, (2, 2), strides=(2, 2), padding='same')(c6)\n",
    "u7 = keras.layers.concatenate([u7, c3])\n",
    "c7 = keras.layers.Conv2D(64, (3, 3), activation='relu', kernel_initializer='he_normal', padding='same')(u7)\n",
    "c7 = keras.layers.Dropout(0.2)(c7)\n",
    "c7 = keras.layers.Conv2D(64, (3, 3), activation='relu', kernel_initializer='he_normal', padding='same')(c7)\n",
    "\n",
    "u8 = keras.layers.Conv2DTranspose(32, (2, 2), strides=(2, 2), padding='same')(c7)\n",
    "u8 = keras.layers.concatenate([u8, c2])\n",
    "c8 = keras.layers.Conv2D(32, (3, 3), activation='relu', kernel_initializer='he_normal', padding='same')(u8)\n",
    "c8 = keras.layers.Dropout(0.1)(c8)\n",
    "c8 = keras.layers.Conv2D(32, (3, 3), activation='relu', kernel_initializer='he_normal', padding='same')(c8)\n",
    "\n",
    "u9 = keras.layers.Conv2DTranspose(16, (2, 2), strides=(2, 2), padding='same')(c8)\n",
    "u9 = keras.layers.concatenate([u9, c1], axis=3)\n",
    "c9 = keras.layers.Conv2D(16, (3, 3), activation='relu', kernel_initializer='he_normal', padding='same')(u9)\n",
    "c9 = keras.layers.Dropout(0.1)(c9)\n",
    "c9 = keras.layers.Conv2D(16, (3, 3), activation='relu', kernel_initializer='he_normal', padding='same')(c9)\n",
    "outputs = keras.layers.Conv2D(1, (1, 1), activation='sigmoid')(c9)\n",
    "model = keras.Model(inputs=[inputs], outputs=[outputs])\n",
    "model.compile(optimizer='adam', loss='binary_crossentropy', metrics=['accuracy'])\n",
    "model.summary()"
   ]
  },
  {
   "cell_type": "code",
   "execution_count": 9,
   "id": "54903c17-c7ad-453d-ae78-4b7ee38042e8",
   "metadata": {},
   "outputs": [
    {
     "name": "stdout",
     "output_type": "stream",
     "text": [
      "Epoch 1/25\n",
      "25/25 [==============================] - 370s 14s/step - loss: 0.2734 - accuracy: 0.8669 - val_loss: 0.0305 - val_accuracy: 0.9966\n",
      "Epoch 2/25\n",
      "25/25 [==============================] - 345s 14s/step - loss: 0.0176 - accuracy: 0.9981 - val_loss: 0.0286 - val_accuracy: 0.9966\n",
      "Epoch 3/25\n",
      "25/25 [==============================] - 346s 14s/step - loss: 0.0158 - accuracy: 0.9980 - val_loss: 0.0254 - val_accuracy: 0.9966\n",
      "Epoch 4/25\n",
      "25/25 [==============================] - 345s 14s/step - loss: 0.0149 - accuracy: 0.9981 - val_loss: 0.0297 - val_accuracy: 0.9966\n",
      "Epoch 5/25\n",
      "25/25 [==============================] - 349s 14s/step - loss: 0.0161 - accuracy: 0.9979 - val_loss: 0.0323 - val_accuracy: 0.9966\n"
     ]
    }
   ],
   "source": [
    "checkpointer = keras.callbacks.ModelCheckpoint('model_for_plants.h5', verbose=1, save_best_only=True);\n",
    "callbacks = [\n",
    "    keras.callbacks.EarlyStopping(patience=1, monitor='val_loss'),\n",
    "    keras.callbacks.TensorBoard(log_dir='logs')]\n",
    "\n",
    "result = model.fit(X_train, Y_train, validation_split=0.1, batch_size=16, epochs=10, callbacks=callbacks)\n",
    "\n",
    "idx = random.randint(0, len(X_train))\n"
   ]
  },
  {
   "cell_type": "code",
   "execution_count": 17,
   "id": "67f71a4b-fa6d-4c8c-ab15-9a4685ae556d",
   "metadata": {},
   "outputs": [],
   "source": [
    "preds_test = model.predict(X_test, verbose=1)\n",
    "preds_test_t = (preds_test > 0.5).astype(np.uint8)\n"
   ]
  },
  {
   "cell_type": "code",
   "execution_count": 18,
   "id": "9bfc77c3-b701-46ec-a796-7a3a1e61f17a",
   "metadata": {},
   "outputs": [
    {
     "data": {
      "image/png": "[encoded data removed]",
      "text/plain": [
       "<Figure size 432x288 with 1 Axes>"
      ]
     },
     "metadata": {
      "needs_background": "light"
     },
     "output_type": "display_data"
    },
    {
     "data": {
      "image/png": "[encoded data removed]",
      "text/plain": [
       "<Figure size 432x288 with 1 Axes>"
      ]
     },
     "metadata": {
      "needs_background": "light"
     },
     "output_type": "display_data"
    },
    {
     "data": {
      "image/png": "[encoded data removed]",
      "text/plain": [
       "<Figure size 432x288 with 1 Axes>"
      ]
     },
     "metadata": {
      "needs_background": "light"
     },
     "output_type": "display_data"
    },
    {
     "data": {
      "image/png": "[encoded data removed]",
      "text/plain": [
       "<Figure size 432x288 with 1 Axes>"
      ]
     },
     "metadata": {
      "needs_background": "light"
     },
     "output_type": "display_data"
    },
    {
     "data": {
      "image/png": "[encoded data removed]",
      "text/plain": [
       "<Figure size 432x288 with 1 Axes>"
      ]
     },
     "metadata": {
      "needs_background": "light"
     },
     "output_type": "display_data"
    },
    {
     "data": {
      "image/png": "[encoded data removed]",
      "text/plain": [
       "<Figure size 432x288 with 1 Axes>"
      ]
     },
     "metadata": {
      "needs_background": "light"
     },
     "output_type": "display_data"
    }
   ],
   "source": [
    "imshow(np.squeeze(preds_test_t[5]*0.9))\n",
    "plt.show()\n",
    "imshow(np.squeeze(preds_test_t[6]*0.9))\n",
    "plt.show()\n",
    "imshow(np.squeeze(preds_test_t[7]*0.9))\n",
    "plt.show()\n",
    "imshow(np.squeeze(preds_test_t[8]*0.9))\n",
    "plt.show()\n",
    "imshow(np.squeeze(preds_test_t[9]*0.9))\n",
    "plt.show()\n",
    "imshow(np.squeeze(preds_test_t[10]*0.9))\n",
    "plt.show()"
   ]
  },
  {
   "cell_type": "code",
   "execution_count": null,
   "id": "f6dfa7ac-5436-48cd-81be-0b60a1a3e4ff",
   "metadata": {},
   "outputs": [],
   "source": []
  }
 ],
 "metadata": {
  "kernelspec": {
   "display_name": "Python 3 (ipykernel)",
   "language": "python",
   "name": "python3"
  },
  "language_info": {
   "codemirror_mode": {
    "name": "ipython",
    "version": 3
   },
   "file_extension": ".py",
   "mimetype": "text/x-python",
   "name": "python",
   "nbconvert_exporter": "python",
   "pygments_lexer": "ipython3",
   "version": "3.8.7"
  }
 },
 "nbformat": 4,
 "nbformat_minor": 5
}
